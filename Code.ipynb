{
 "cells": [
  {
   "cell_type": "code",
   "execution_count": 1,
   "metadata": {},
   "outputs": [
    {
     "name": "stderr",
     "output_type": "stream",
     "text": [
      "Using TensorFlow backend.\n"
     ]
    }
   ],
   "source": [
    "\"\"\" data can be found => https://surfdrive.surf.nl/files/index.php/s/A91xgk7B5kXNvfJ \"\"\"\n",
    "\n",
    "import numpy as np, pandas as pd\n",
    "import sklearn.metrics as sklm\n",
    "\n",
    "import tensorflow as tf\n",
    "keras = tf.keras\n",
    "from keras import optimizers\n",
    "from keras.callbacks import EarlyStopping\n",
    "\n",
    "from featureEngineering import FeatureEngineer\n",
    "from modelAsset import model, plot_loss\n",
    "\n",
    "Engineer = FeatureEngineer(\"feat.npy\", \"path.npy\", \"train.csv\", \"test.csv\")"
   ]
  },
  {
   "cell_type": "code",
   "execution_count": 2,
   "metadata": {},
   "outputs": [
    {
     "name": "stdout",
     "output_type": "stream",
     "text": [
      "Train on 66372 samples, validate on 14223 samples\n",
      "Epoch 1/50\n",
      "66372/66372 [==============================] - 135s 2ms/step - loss: 2.9735 - accuracy: 0.1880 - val_loss: 2.3085 - val_accuracy: 0.4455\n",
      "Epoch 2/50\n",
      "66372/66372 [==============================] - 134s 2ms/step - loss: 2.0248 - accuracy: 0.4233 - val_loss: 1.3627 - val_accuracy: 0.6339\n",
      "Epoch 3/50\n",
      "66372/66372 [==============================] - 134s 2ms/step - loss: 1.4883 - accuracy: 0.5723 - val_loss: 1.2604 - val_accuracy: 0.6433\n",
      "Epoch 4/50\n",
      "66372/66372 [==============================] - 134s 2ms/step - loss: 1.1852 - accuracy: 0.6571 - val_loss: 0.8387 - val_accuracy: 0.7691\n",
      "Epoch 5/50\n",
      "66372/66372 [==============================] - 134s 2ms/step - loss: 0.9877 - accuracy: 0.7160 - val_loss: 0.8111 - val_accuracy: 0.7730\n",
      "Epoch 6/50\n",
      "66372/66372 [==============================] - 134s 2ms/step - loss: 0.8634 - accuracy: 0.7522 - val_loss: 0.5637 - val_accuracy: 0.8415\n",
      "Epoch 7/50\n",
      "66372/66372 [==============================] - 134s 2ms/step - loss: 0.7573 - accuracy: 0.7840 - val_loss: 0.5609 - val_accuracy: 0.8416\n",
      "Epoch 8/50\n",
      "66372/66372 [==============================] - 134s 2ms/step - loss: 0.6868 - accuracy: 0.8056 - val_loss: 0.5041 - val_accuracy: 0.8569\n",
      "Epoch 9/50\n",
      "66372/66372 [==============================] - 133s 2ms/step - loss: 0.6363 - accuracy: 0.8203 - val_loss: 0.4590 - val_accuracy: 0.8706\n",
      "Epoch 10/50\n",
      "66372/66372 [==============================] - 134s 2ms/step - loss: 0.5885 - accuracy: 0.8337 - val_loss: 0.4227 - val_accuracy: 0.8845\n",
      "Epoch 11/50\n",
      "66372/66372 [==============================] - 133s 2ms/step - loss: 0.5461 - accuracy: 0.8465 - val_loss: 0.5182 - val_accuracy: 0.8526\n",
      "Epoch 12/50\n",
      "66372/66372 [==============================] - 137s 2ms/step - loss: 0.5224 - accuracy: 0.8529 - val_loss: 0.4044 - val_accuracy: 0.8906\n",
      "Epoch 13/50\n",
      "66372/66372 [==============================] - 135s 2ms/step - loss: 0.4927 - accuracy: 0.8602 - val_loss: 0.4155 - val_accuracy: 0.8906\n",
      "Epoch 14/50\n",
      "66372/66372 [==============================] - 136s 2ms/step - loss: 0.4699 - accuracy: 0.8677 - val_loss: 0.3964 - val_accuracy: 0.8939\n",
      "Epoch 15/50\n",
      "66372/66372 [==============================] - 137s 2ms/step - loss: 0.4504 - accuracy: 0.8734 - val_loss: 0.3550 - val_accuracy: 0.9058\n",
      "Epoch 16/50\n",
      "66372/66372 [==============================] - 138s 2ms/step - loss: 0.4351 - accuracy: 0.8768 - val_loss: 0.3735 - val_accuracy: 0.9001\n",
      "Epoch 17/50\n",
      "66372/66372 [==============================] - 138s 2ms/step - loss: 0.4217 - accuracy: 0.8807 - val_loss: 0.3965 - val_accuracy: 0.8952\n",
      "Epoch 18/50\n",
      "66372/66372 [==============================] - 137s 2ms/step - loss: 0.4047 - accuracy: 0.8861 - val_loss: 0.3999 - val_accuracy: 0.8909\n"
     ]
    }
   ],
   "source": [
    "#visualizing loss after each epoch\n",
    "callback = EarlyStopping(monitor='val_loss', patience=3)\n",
    "\n",
    "nns = model('rmsprop')\n",
    "(X_train, y_train), (X_val, y_val), (X_test, y_test) = Engineer.splitting()\n",
    "\n",
    "np.random.seed(37555)\n",
    "history_s = nns.fit(X_train, y_train, \n",
    "                  epochs = 50, callbacks = [callback],\n",
    "                  batch_size = 128,\n",
    "                  validation_data = (X_val, y_val),\n",
    "                  verbose = 1)"
   ]
  },
  {
   "cell_type": "code",
   "execution_count": 3,
   "metadata": {},
   "outputs": [
    {
     "data": {
      "image/png": "[encoded data removed]",
      "text/plain": [
       "<Figure size 432x288 with 1 Axes>"
      ]
     },
     "metadata": {
      "needs_background": "light"
     },
     "output_type": "display_data"
    }
   ],
   "source": [
    "plot_loss(history_s)"
   ]
  },
  {
   "cell_type": "code",
   "execution_count": 4,
   "metadata": {},
   "outputs": [
    {
     "name": "stdout",
     "output_type": "stream",
     "text": [
      "Accuracy:  0.8890529424172116\n"
     ]
    }
   ],
   "source": [
    "_, levels = Engineer.convert_labels()\n",
    "inv_levels = {}\n",
    "for key, val in levels.items():\n",
    "    inv_levels[val] = key\n",
    "\n",
    "y_pred = []\n",
    "y_true = []\n",
    "for score in nns.predict(X_test):\n",
    "    y_pred.append(inv_levels[np.argmax(score)])\n",
    "\n",
    "for actual in y_test:\n",
    "    y_true.append(inv_levels[np.argmax(actual)])\n",
    "\n",
    "print(\"Accuracy: \", sklm.accuracy_score(y_true, y_pred))"
   ]
  },
  {
   "cell_type": "code",
   "execution_count": null,
   "metadata": {},
   "outputs": [],
   "source": [
    "# remade_test = Engineer.remake_array(Engineer.test_feat)\n",
    "\n",
    "# submit = nns.predict(remade_test)\n",
    "# word_answer = []\n",
    "\n",
    "# for score in submit:\n",
    "#     word_answer.append(inv_levels[np.argmax(score)])\n",
    "\n",
    "# df_submit = pd.DataFrame(word_answer, columns=['word'])\n",
    "# df_answers = Engineer.df_test.join(df_submit, how='right')\n",
    "\n",
    "# df_answers[['path', 'word']].to_csv(\"result.csv\", index=False)"
   ]
  }
 ],
 "metadata": {
  "kernelspec": {
   "display_name": "Python 3",
   "language": "python",
   "name": "python3"
  },
  "language_info": {
   "codemirror_mode": {
    "name": "ipython",
    "version": 3
   },
   "file_extension": ".py",
   "mimetype": "text/x-python",
   "name": "python",
   "nbconvert_exporter": "python",
   "pygments_lexer": "ipython3",
   "version": "3.7.6"
  }
 },
 "nbformat": 4,
 "nbformat_minor": 4
}
